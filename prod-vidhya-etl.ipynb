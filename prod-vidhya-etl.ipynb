{
 "cells": [
  {
   "cell_type": "code",
   "execution_count": 1,
   "id": "b5fc1f85-c72f-4a30-bd5e-d891dcce0da6",
   "metadata": {},
   "outputs": [],
   "source": [
    "# Setting up the environment\n",
    "\n",
    "from google.oauth2 import service_account\n",
    "from googleapiclient.discovery import build\n",
    "from googleapiclient.discovery import build\n",
    "import pandas as pd\n",
    "from clean_column_names import clean_column_names\n",
    "from datetime import datetime"
   ]
  },
  {
   "cell_type": "code",
   "execution_count": 2,
   "id": "929a6733-e230-4758-ba5e-f80a0381e6fd",
   "metadata": {},
   "outputs": [],
   "source": [
    "# Configuration\n",
    "\n",
    "SERVICE_ACCOUNT_FILE = 'secrets/vidhya-etl-dabd5ec76159.json'  # Path to your downloaded JSON file\n",
    "SCOPES = ['https://www.googleapis.com/auth/spreadsheets', \n",
    "          'https://www.googleapis.com/auth/drive']  # Read & write scope\n",
    "SPREADSHEET_ID = '1Y8VlU05ekfbwExSMjp0fuCxXJOgKMyvtCUt3c3jFfIc'  # From the URL between /d/...../edit\n",
    "RANGE_NAME = 'Sheet1'  # Adjust as needed"
   ]
  },
  {
   "cell_type": "code",
   "execution_count": 3,
   "id": "7fd56d41-15df-4455-a211-e7fa375218d4",
   "metadata": {},
   "outputs": [],
   "source": [
    "# Authenticate\n",
    "\n",
    "creds = service_account.Credentials.from_service_account_file(\n",
    "    SERVICE_ACCOUNT_FILE, scopes = SCOPES)\n",
    "\n",
    "sheets_service = build('sheets', 'v4', credentials = creds)\n",
    "drive_service  = build('drive', 'v3', credentials = creds)"
   ]
  },
  {
   "cell_type": "code",
   "execution_count": 4,
   "id": "6ca1a490-f646-4c93-aac4-19f4d49bea8d",
   "metadata": {},
   "outputs": [],
   "source": [
    "# Read Data\n",
    "sheet = sheets_service.spreadsheets()\n",
    "result = sheet.values().get(spreadsheetId = SPREADSHEET_ID,\n",
    "                            range = RANGE_NAME).execute()\n",
    "values = result.get('values', [])"
   ]
  },
  {
   "cell_type": "code",
   "execution_count": 5,
   "id": "0bc29896-2629-46e7-a131-870444bfc8c2",
   "metadata": {},
   "outputs": [],
   "source": [
    "# Convert to Dataframe\n",
    "if not values:\n",
    "    print(\"No data found.\")\n",
    "else:\n",
    "    job_tracker = pd.DataFrame(values[1:], columns=values[0])  # Skip header row\n",
    "    job_tracker.head()"
   ]
  },
  {
   "cell_type": "code",
   "execution_count": 6,
   "id": "30850b38-1f03-4367-b7d4-70ea826c432d",
   "metadata": {},
   "outputs": [],
   "source": [
    "# Make a copy of the data\n",
    "\n",
    "job_tracker_cp = job_tracker.copy()"
   ]
  },
  {
   "cell_type": "code",
   "execution_count": 7,
   "id": "e03a270f-a611-433c-b991-5756a5b3ff5d",
   "metadata": {},
   "outputs": [
    {
     "data": {
      "text/html": [
       "<div>\n",
       "<style scoped>\n",
       "    .dataframe tbody tr th:only-of-type {\n",
       "        vertical-align: middle;\n",
       "    }\n",
       "\n",
       "    .dataframe tbody tr th {\n",
       "        vertical-align: top;\n",
       "    }\n",
       "\n",
       "    .dataframe thead th {\n",
       "        text-align: right;\n",
       "    }\n",
       "</style>\n",
       "<table border=\"1\" class=\"dataframe\">\n",
       "  <thead>\n",
       "    <tr style=\"text-align: right;\">\n",
       "      <th></th>\n",
       "      <th>application_number</th>\n",
       "      <th>date</th>\n",
       "      <th>status</th>\n",
       "      <th>role</th>\n",
       "      <th>company</th>\n",
       "      <th>source</th>\n",
       "      <th>application_url</th>\n",
       "      <th>deadline</th>\n",
       "      <th>status</th>\n",
       "    </tr>\n",
       "  </thead>\n",
       "  <tbody>\n",
       "    <tr>\n",
       "      <th>0</th>\n",
       "      <td>1</td>\n",
       "      <td>April 28, 2025</td>\n",
       "      <td>Application Received</td>\n",
       "      <td>Administrative Assistant</td>\n",
       "      <td>Fraser Health Authority</td>\n",
       "      <td>LinkedIn &gt; applied website</td>\n",
       "      <td>None</td>\n",
       "      <td>None</td>\n",
       "      <td>None</td>\n",
       "    </tr>\n",
       "    <tr>\n",
       "      <th>1</th>\n",
       "      <td>2</td>\n",
       "      <td>April 28, 2025</td>\n",
       "      <td>Application Received</td>\n",
       "      <td>Executive Assistant I</td>\n",
       "      <td>Wesco</td>\n",
       "      <td>LinkedIN &gt; applied website</td>\n",
       "      <td>None</td>\n",
       "      <td>None</td>\n",
       "      <td>None</td>\n",
       "    </tr>\n",
       "    <tr>\n",
       "      <th>2</th>\n",
       "      <td>1</td>\n",
       "      <td>April 30, 2025</td>\n",
       "      <td>Application Received</td>\n",
       "      <td>Program Coordinator</td>\n",
       "      <td>Toronto Community Housing</td>\n",
       "      <td>Referral &gt; Tia vargese</td>\n",
       "      <td>None</td>\n",
       "      <td>None</td>\n",
       "      <td>None</td>\n",
       "    </tr>\n",
       "    <tr>\n",
       "      <th>3</th>\n",
       "      <td>2</td>\n",
       "      <td>April 30, 2025</td>\n",
       "      <td>Incomplete Application</td>\n",
       "      <td>Executive Assistant to the Superintendent</td>\n",
       "      <td>Gov of Canada</td>\n",
       "      <td>https://emploisfp-psjobs.cfp-psc.gc.ca/psrs-sr...</td>\n",
       "      <td></td>\n",
       "      <td>May 12, 2025</td>\n",
       "      <td>List of Screening Questions to be Answered</td>\n",
       "    </tr>\n",
       "    <tr>\n",
       "      <th>4</th>\n",
       "      <td>3</td>\n",
       "      <td>April 30, 2025</td>\n",
       "      <td>Application Received</td>\n",
       "      <td>Office and Events coordinator</td>\n",
       "      <td>The Radius Group</td>\n",
       "      <td>LinkedIN &gt; message sent on linkedin</td>\n",
       "      <td>None</td>\n",
       "      <td>None</td>\n",
       "      <td>None</td>\n",
       "    </tr>\n",
       "  </tbody>\n",
       "</table>\n",
       "</div>"
      ],
      "text/plain": [
       "  application_number            date                  status  \\\n",
       "0                  1  April 28, 2025    Application Received   \n",
       "1                  2  April 28, 2025    Application Received   \n",
       "2                  1  April 30, 2025    Application Received   \n",
       "3                  2  April 30, 2025  Incomplete Application   \n",
       "4                  3  April 30, 2025    Application Received   \n",
       "\n",
       "                                        role                    company  \\\n",
       "0                   Administrative Assistant    Fraser Health Authority   \n",
       "1                      Executive Assistant I                      Wesco   \n",
       "2                        Program Coordinator  Toronto Community Housing   \n",
       "3  Executive Assistant to the Superintendent              Gov of Canada   \n",
       "4              Office and Events coordinator           The Radius Group   \n",
       "\n",
       "                                              source application_url  \\\n",
       "0                         LinkedIn > applied website            None   \n",
       "1                         LinkedIN > applied website            None   \n",
       "2                             Referral > Tia vargese            None   \n",
       "3  https://emploisfp-psjobs.cfp-psc.gc.ca/psrs-sr...                   \n",
       "4                LinkedIN > message sent on linkedin            None   \n",
       "\n",
       "       deadline                                      status  \n",
       "0          None                                        None  \n",
       "1          None                                        None  \n",
       "2          None                                        None  \n",
       "3  May 12, 2025  List of Screening Questions to be Answered  \n",
       "4          None                                        None  "
      ]
     },
     "execution_count": 7,
     "metadata": {},
     "output_type": "execute_result"
    }
   ],
   "source": [
    "# Clean column names\n",
    "\n",
    "clean_column_names(job_tracker_cp)"
   ]
  },
  {
   "cell_type": "code",
   "execution_count": 8,
   "id": "bd78f855-a6cc-4d09-b21b-0500b6e837ec",
   "metadata": {},
   "outputs": [],
   "source": [
    "# Rename columns & drop rows with null values\n",
    "\n",
    "job_tracker_cp.rename(columns = {'application_number':'unique_id'}, inplace = True)\n",
    "\n",
    "job_tracker_cp.dropna(subset = ['role'], inplace = True)\n",
    "\n",
    "# Reset index \n",
    "\n",
    "job_tracker_cp.reset_index(drop = True, inplace = True)"
   ]
  },
  {
   "cell_type": "code",
   "execution_count": 9,
   "id": "c2994267-eb19-4ed0-a173-66cb443f3dde",
   "metadata": {},
   "outputs": [],
   "source": [
    "job_tracker_cp['dw_last_updated'] = str(datetime.now())"
   ]
  },
  {
   "cell_type": "code",
   "execution_count": 10,
   "id": "b88a0db6-3a1e-469a-b04c-b4c45c8679a3",
   "metadata": {},
   "outputs": [],
   "source": [
    "# Convert dataframe to a list of lists\n",
    "\n",
    "values = [job_tracker_cp.columns.to_list()] + job_tracker_cp.values.tolist()"
   ]
  },
  {
   "cell_type": "code",
   "execution_count": 11,
   "id": "19402cc8-a66c-4f9a-8f2b-0e4298842db7",
   "metadata": {
    "scrolled": true
   },
   "outputs": [
    {
     "data": {
      "text/plain": [
       "{'kind': 'drive#permission',\n",
       " 'id': '16585187306654007841',\n",
       " 'type': 'user',\n",
       " 'role': 'writer'}"
      ]
     },
     "execution_count": 11,
     "metadata": {},
     "output_type": "execute_result"
    }
   ],
   "source": [
    "# Destination Sheet\n",
    "\n",
    "DESTINATION_SHEET_ID = '1_hUXV_dGfWpPaV2GJVmcrJjOfHMVRJp36CxEw8eX3RQ'\n",
    "\n",
    "# Clear the existing data\n",
    "\n",
    "sheets_service.spreadsheets().values().clear(\n",
    "    spreadsheetId = DESTINATION_SHEET_ID,\n",
    "    range = 'Sheet1',\n",
    "    body = {}\n",
    ").execute()\n",
    "\n",
    "# Write the transformed data\n",
    "\n",
    "sheets_service.spreadsheets().values().update(\n",
    "    spreadsheetId = DESTINATION_SHEET_ID,\n",
    "    range = 'Sheet1!A1',\n",
    "    valueInputOption = 'USER_ENTERED',\n",
    "    body={'values': values}\n",
    ").execute()\n",
    "\n",
    "# SHARE NEW SHEET ACCESS TO MYSELF\n",
    "\n",
    "drive_service.permissions().create(\n",
    "    fileId=DESTINATION_SHEET_ID,\n",
    "    body={\n",
    "        'type': 'user',\n",
    "        'role': 'writer',  # or 'reader'\n",
    "        'emailAddress': 'nadimkhn323@gmail.com'\n",
    "    },\n",
    "    sendNotificationEmail=True\n",
    ").execute()"
   ]
  }
 ],
 "metadata": {
  "kernelspec": {
   "display_name": "Python [conda env:base] *",
   "language": "python",
   "name": "conda-base-py"
  },
  "language_info": {
   "codemirror_mode": {
    "name": "ipython",
    "version": 3
   },
   "file_extension": ".py",
   "mimetype": "text/x-python",
   "name": "python",
   "nbconvert_exporter": "python",
   "pygments_lexer": "ipython3",
   "version": "3.12.2"
  }
 },
 "nbformat": 4,
 "nbformat_minor": 5
}
