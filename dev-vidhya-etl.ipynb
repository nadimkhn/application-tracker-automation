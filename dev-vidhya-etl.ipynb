{
 "cells": [
  {
   "cell_type": "code",
   "execution_count": 1,
   "id": "d428d63f-63f4-433f-843b-94695ff73e5d",
   "metadata": {},
   "outputs": [
    {
     "name": "stdout",
     "output_type": "stream",
     "text": [
      "/opt/miniconda3/bin/python\n"
     ]
    }
   ],
   "source": [
    "import sys\n",
    "print(sys.executable)"
   ]
  },
  {
   "cell_type": "code",
   "execution_count": 1,
   "id": "b5fc1f85-c72f-4a30-bd5e-d891dcce0da6",
   "metadata": {},
   "outputs": [],
   "source": [
    "# Setting up the environment\n",
    "\n",
    "from google.oauth2 import service_account\n",
    "from googleapiclient.discovery import build\n",
    "from googleapiclient.discovery import build\n",
    "import pandas as pd"
   ]
  },
  {
   "cell_type": "code",
   "execution_count": 2,
   "id": "929a6733-e230-4758-ba5e-f80a0381e6fd",
   "metadata": {},
   "outputs": [],
   "source": [
    "# Configuration\n",
    "\n",
    "SERVICE_ACCOUNT_FILE = 'vidhya-etl-dabd5ec76159.json'  # Path to your downloaded JSON file\n",
    "SCOPES = ['https://www.googleapis.com/auth/spreadsheets', \n",
    "          'https://www.googleapis.com/auth/drive']  # Read & write scope\n",
    "SPREADSHEET_ID = '1Nd2HsHCdqV7tRe4PN2rkB0Bg7-Bpv5vlRx4QpJEyc-A'  # From the URL between /d/...../edit\n",
    "RANGE_NAME = 'Sheet1'  # Adjust as needed"
   ]
  },
  {
   "cell_type": "code",
   "execution_count": 3,
   "id": "7fd56d41-15df-4455-a211-e7fa375218d4",
   "metadata": {},
   "outputs": [],
   "source": [
    "# Authenticate\n",
    "\n",
    "creds = service_account.Credentials.from_service_account_file(\n",
    "    SERVICE_ACCOUNT_FILE, scopes = SCOPES)\n",
    "\n",
    "sheets_service = build('sheets', 'v4', credentials = creds)\n",
    "drive_service  = build('drive', 'v3', credentials = creds)"
   ]
  },
  {
   "cell_type": "code",
   "execution_count": 4,
   "id": "6ca1a490-f646-4c93-aac4-19f4d49bea8d",
   "metadata": {},
   "outputs": [],
   "source": [
    "# Read Data\n",
    "\n",
    "sheet = sheets_service.spreadsheets()\n",
    "result = sheet.values().get(spreadsheetId = SPREADSHEET_ID,\n",
    "                            range = RANGE_NAME).execute()\n",
    "values = result.get('values', [])"
   ]
  },
  {
   "cell_type": "code",
   "execution_count": 5,
   "id": "0bc29896-2629-46e7-a131-870444bfc8c2",
   "metadata": {},
   "outputs": [
    {
     "data": {
      "text/html": [
       "<div>\n",
       "<style scoped>\n",
       "    .dataframe tbody tr th:only-of-type {\n",
       "        vertical-align: middle;\n",
       "    }\n",
       "\n",
       "    .dataframe tbody tr th {\n",
       "        vertical-align: top;\n",
       "    }\n",
       "\n",
       "    .dataframe thead th {\n",
       "        text-align: right;\n",
       "    }\n",
       "</style>\n",
       "<table border=\"1\" class=\"dataframe\">\n",
       "  <thead>\n",
       "    <tr style=\"text-align: right;\">\n",
       "      <th></th>\n",
       "      <th>Application Number</th>\n",
       "      <th>Date</th>\n",
       "      <th>Status</th>\n",
       "      <th>Role</th>\n",
       "      <th>Company</th>\n",
       "      <th>Source</th>\n",
       "      <th>Application URL</th>\n",
       "      <th>Deadline</th>\n",
       "      <th>Notes</th>\n",
       "    </tr>\n",
       "  </thead>\n",
       "  <tbody>\n",
       "    <tr>\n",
       "      <th>0</th>\n",
       "      <td></td>\n",
       "      <td>25/05/06</td>\n",
       "      <td>Applied</td>\n",
       "      <td>Data Analyst</td>\n",
       "      <td>Meta Inc.</td>\n",
       "      <td>LinkedIn</td>\n",
       "      <td>https://linkedin.com</td>\n",
       "      <td>25/05/10</td>\n",
       "      <td>find connections next!</td>\n",
       "    </tr>\n",
       "    <tr>\n",
       "      <th>1</th>\n",
       "      <td></td>\n",
       "      <td>25/05/07</td>\n",
       "      <td>Applied</td>\n",
       "      <td>Data Analyst</td>\n",
       "      <td>Meta Inc.</td>\n",
       "      <td>LinkedIn</td>\n",
       "      <td>https://linkedin.com</td>\n",
       "      <td>25/05/11</td>\n",
       "      <td>find connections next!</td>\n",
       "    </tr>\n",
       "    <tr>\n",
       "      <th>2</th>\n",
       "      <td></td>\n",
       "      <td>25/05/08</td>\n",
       "      <td>Applied</td>\n",
       "      <td>Data Analyst</td>\n",
       "      <td>Meta Inc.</td>\n",
       "      <td>LinkedIn</td>\n",
       "      <td>https://linkedin.com</td>\n",
       "      <td>25/05/12</td>\n",
       "      <td>find connections next!</td>\n",
       "    </tr>\n",
       "    <tr>\n",
       "      <th>3</th>\n",
       "      <td></td>\n",
       "      <td>25/05/09</td>\n",
       "      <td>Applied</td>\n",
       "      <td>Data Analyst</td>\n",
       "      <td>Meta Inc.</td>\n",
       "      <td>LinkedIn</td>\n",
       "      <td>https://linkedin.com</td>\n",
       "      <td>25/05/13</td>\n",
       "      <td>find connections next!</td>\n",
       "    </tr>\n",
       "    <tr>\n",
       "      <th>4</th>\n",
       "      <td></td>\n",
       "      <td>25/05/10</td>\n",
       "      <td>Applied</td>\n",
       "      <td>Data Analyst</td>\n",
       "      <td>Meta Inc.</td>\n",
       "      <td>LinkedIn</td>\n",
       "      <td>https://linkedin.com</td>\n",
       "      <td>25/05/14</td>\n",
       "      <td>find connections next!</td>\n",
       "    </tr>\n",
       "  </tbody>\n",
       "</table>\n",
       "</div>"
      ],
      "text/plain": [
       "  Application Number      Date   Status          Role    Company    Source  \\\n",
       "0                     25/05/06  Applied  Data Analyst  Meta Inc.  LinkedIn   \n",
       "1                     25/05/07  Applied  Data Analyst  Meta Inc.  LinkedIn   \n",
       "2                     25/05/08  Applied  Data Analyst  Meta Inc.  LinkedIn   \n",
       "3                     25/05/09  Applied  Data Analyst  Meta Inc.  LinkedIn   \n",
       "4                     25/05/10  Applied  Data Analyst  Meta Inc.  LinkedIn   \n",
       "\n",
       "        Application URL  Deadline                   Notes  \n",
       "0  https://linkedin.com  25/05/10  find connections next!  \n",
       "1  https://linkedin.com  25/05/11  find connections next!  \n",
       "2  https://linkedin.com  25/05/12  find connections next!  \n",
       "3  https://linkedin.com  25/05/13  find connections next!  \n",
       "4  https://linkedin.com  25/05/14  find connections next!  "
      ]
     },
     "metadata": {},
     "output_type": "display_data"
    }
   ],
   "source": [
    "# Convert to Dataframe\n",
    "\n",
    "if not values:\n",
    "    print(\"No data found.\")\n",
    "else:\n",
    "    job_tracker = pd.DataFrame(values[1:], columns=values[0])  # Skip header row\n",
    "    display(job_tracker.head())"
   ]
  },
  {
   "cell_type": "code",
   "execution_count": 6,
   "id": "b88a0db6-3a1e-469a-b04c-b4c45c8679a3",
   "metadata": {},
   "outputs": [],
   "source": [
    "# Convert transformed dataframe to list of lists\n",
    "\n",
    "values = [job_tracker.columns.to_list()] + job_tracker.values.tolist()"
   ]
  },
  {
   "cell_type": "code",
   "execution_count": 7,
   "id": "19402cc8-a66c-4f9a-8f2b-0e4298842db7",
   "metadata": {},
   "outputs": [
    {
     "name": "stdout",
     "output_type": "stream",
     "text": [
      "Created new spreadsheet: https://docs.google.com/spreadsheets/d/13d7ChEPFco_MTAxtYHxIDD0b5OJIBOb9hPBsuHYhJ2U\n"
     ]
    },
    {
     "data": {
      "text/plain": [
       "{'kind': 'drive#permission',\n",
       " 'id': '16585187306654007841',\n",
       " 'type': 'user',\n",
       " 'role': 'writer'}"
      ]
     },
     "execution_count": 7,
     "metadata": {},
     "output_type": "execute_result"
    }
   ],
   "source": [
    "# Create a new sheet\n",
    "\n",
    "spreadsheet_body = {\n",
    "    'properties': {\n",
    "        'title': 'vidhya-etl-SSOT'\n",
    "    }\n",
    "}\n",
    "new_sheet = sheets_service.spreadsheets().create(body=spreadsheet_body).execute()\n",
    "NEW_SPREADSHEET_ID = new_sheet['spreadsheetId']\n",
    "print(f\"Created new spreadsheet: https://docs.google.com/spreadsheets/d/{NEW_SPREADSHEET_ID}\")\n",
    "\n",
    "# Write to new sheet\n",
    "\n",
    "sheets_service.spreadsheets().values().update(\n",
    "    spreadsheetId = NEW_SPREADSHEET_ID,\n",
    "    range = 'Sheet1!A1',\n",
    "    valueInputOption = 'USER_ENTERED',\n",
    "    body={'values': values}\n",
    ").execute()\n",
    "\n",
    "# Share new sheet to my self\n",
    "\n",
    "drive_service.permissions().create(\n",
    "    fileId=NEW_SPREADSHEET_ID,\n",
    "    body={\n",
    "        'type': 'user',\n",
    "        'role': 'writer',  # or 'reader'\n",
    "        'emailAddress': 'nadimkhn323@gmail.com'\n",
    "    },\n",
    "    sendNotificationEmail=True\n",
    ").execute()"
   ]
  },
  {
   "cell_type": "code",
   "execution_count": null,
   "id": "80821923-65bc-47c2-a3bf-6687efee8b5c",
   "metadata": {},
   "outputs": [],
   "source": []
  },
  {
   "cell_type": "code",
   "execution_count": null,
   "id": "594c652a-249a-48d1-a4c0-d2c60cbe1a51",
   "metadata": {},
   "outputs": [],
   "source": []
  },
  {
   "cell_type": "code",
   "execution_count": null,
   "id": "391c86ab-004e-46ef-92b5-d618a605ec12",
   "metadata": {},
   "outputs": [],
   "source": []
  },
  {
   "cell_type": "code",
   "execution_count": null,
   "id": "5be9e414-82dd-4117-bfb4-11318495460e",
   "metadata": {},
   "outputs": [],
   "source": []
  },
  {
   "cell_type": "code",
   "execution_count": null,
   "id": "9ba71b4d-4c86-4faa-9d58-9048747dab79",
   "metadata": {},
   "outputs": [],
   "source": []
  },
  {
   "cell_type": "markdown",
   "id": "f79b4307-de74-4950-8978-7d7a408c70d8",
   "metadata": {},
   "source": [
    "### Next Steps"
   ]
  },
  {
   "cell_type": "markdown",
   "id": "75b51b9a-9ff5-4482-b839-faaa7bbfdc3c",
   "metadata": {},
   "source": [
    "- Figure out to write it to a new google sheet\n",
    "- clone jupyter notebook & rename as prod\n",
    "- Connect with Vidhya's google sheet & don't write"
   ]
  }
 ],
 "metadata": {
  "kernelspec": {
   "display_name": "Python [conda env:base] *",
   "language": "python",
   "name": "conda-base-py"
  },
  "language_info": {
   "codemirror_mode": {
    "name": "ipython",
    "version": 3
   },
   "file_extension": ".py",
   "mimetype": "text/x-python",
   "name": "python",
   "nbconvert_exporter": "python",
   "pygments_lexer": "ipython3",
   "version": "3.12.2"
  }
 },
 "nbformat": 4,
 "nbformat_minor": 5
}
